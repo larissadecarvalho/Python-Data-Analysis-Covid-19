{
 "cells": [
  {
   "cell_type": "code",
   "execution_count": 1,
   "metadata": {},
   "outputs": [],
   "source": [
    "#Aplicando o modelo de Regressão Logística no Dataset de Variáveis Numéricas"
   ]
  },
  {
   "cell_type": "code",
   "execution_count": 2,
   "metadata": {},
   "outputs": [],
   "source": [
    "import pandas as pd\n",
    "import numpy as np\n",
    "import matplotlib.pyplot as plt\n",
    "import seaborn as sns\n",
    "%matplotlib inline"
   ]
  },
  {
   "cell_type": "code",
   "execution_count": 3,
   "metadata": {},
   "outputs": [],
   "source": [
    "Data_NumandCat = pd.read_csv('Dataset_Num_Cat.csv')"
   ]
  },
  {
   "cell_type": "code",
   "execution_count": 4,
   "metadata": {},
   "outputs": [
    {
     "data": {
      "text/html": [
       "<div>\n",
       "<style scoped>\n",
       "    .dataframe tbody tr th:only-of-type {\n",
       "        vertical-align: middle;\n",
       "    }\n",
       "\n",
       "    .dataframe tbody tr th {\n",
       "        vertical-align: top;\n",
       "    }\n",
       "\n",
       "    .dataframe thead th {\n",
       "        text-align: right;\n",
       "    }\n",
       "</style>\n",
       "<table border=\"1\" class=\"dataframe\">\n",
       "  <thead>\n",
       "    <tr style=\"text-align: right;\">\n",
       "      <th></th>\n",
       "      <th>Patient age quantile</th>\n",
       "      <th>Hematocrit</th>\n",
       "      <th>Hemoglobin</th>\n",
       "      <th>Platelets</th>\n",
       "      <th>Red blood Cells</th>\n",
       "      <th>Lymphocytes</th>\n",
       "      <th>Mean corpuscular hemoglobin concentration (MCHC)</th>\n",
       "      <th>Leukocytes</th>\n",
       "      <th>Basophils</th>\n",
       "      <th>Mean corpuscular hemoglobin (MCH)</th>\n",
       "      <th>...</th>\n",
       "      <th>Parainfluenza 4</th>\n",
       "      <th>Coronavirus229E</th>\n",
       "      <th>CoronavirusOC43</th>\n",
       "      <th>Inf A H1N1 2009</th>\n",
       "      <th>Bordetella pertussis</th>\n",
       "      <th>Metapneumovirus</th>\n",
       "      <th>Parainfluenza 2</th>\n",
       "      <th>Influenza B, rapid test</th>\n",
       "      <th>Influenza A, rapid test</th>\n",
       "      <th>Result Test COVID</th>\n",
       "    </tr>\n",
       "  </thead>\n",
       "  <tbody>\n",
       "    <tr>\n",
       "      <th>0</th>\n",
       "      <td>17</td>\n",
       "      <td>0.236515</td>\n",
       "      <td>-0.022340</td>\n",
       "      <td>-0.517413</td>\n",
       "      <td>0.102004</td>\n",
       "      <td>0.318366</td>\n",
       "      <td>-0.950790</td>\n",
       "      <td>-0.094610</td>\n",
       "      <td>-0.223767</td>\n",
       "      <td>-0.292269</td>\n",
       "      <td>...</td>\n",
       "      <td>0</td>\n",
       "      <td>0</td>\n",
       "      <td>0</td>\n",
       "      <td>0</td>\n",
       "      <td>0</td>\n",
       "      <td>0</td>\n",
       "      <td>0</td>\n",
       "      <td>0</td>\n",
       "      <td>0</td>\n",
       "      <td>0</td>\n",
       "    </tr>\n",
       "    <tr>\n",
       "      <th>1</th>\n",
       "      <td>9</td>\n",
       "      <td>-0.747693</td>\n",
       "      <td>-0.586244</td>\n",
       "      <td>-0.429480</td>\n",
       "      <td>-1.361315</td>\n",
       "      <td>-1.114514</td>\n",
       "      <td>0.542882</td>\n",
       "      <td>-0.884923</td>\n",
       "      <td>0.081693</td>\n",
       "      <td>1.746323</td>\n",
       "      <td>...</td>\n",
       "      <td>0</td>\n",
       "      <td>0</td>\n",
       "      <td>0</td>\n",
       "      <td>1</td>\n",
       "      <td>0</td>\n",
       "      <td>0</td>\n",
       "      <td>0</td>\n",
       "      <td>0</td>\n",
       "      <td>1</td>\n",
       "      <td>0</td>\n",
       "    </tr>\n",
       "    <tr>\n",
       "      <th>2</th>\n",
       "      <td>9</td>\n",
       "      <td>-0.679027</td>\n",
       "      <td>-0.711556</td>\n",
       "      <td>0.952319</td>\n",
       "      <td>-0.321124</td>\n",
       "      <td>-0.875701</td>\n",
       "      <td>-0.253742</td>\n",
       "      <td>-0.286623</td>\n",
       "      <td>-0.223767</td>\n",
       "      <td>-0.710443</td>\n",
       "      <td>...</td>\n",
       "      <td>0</td>\n",
       "      <td>0</td>\n",
       "      <td>0</td>\n",
       "      <td>0</td>\n",
       "      <td>0</td>\n",
       "      <td>0</td>\n",
       "      <td>0</td>\n",
       "      <td>0</td>\n",
       "      <td>0</td>\n",
       "      <td>0</td>\n",
       "    </tr>\n",
       "    <tr>\n",
       "      <th>3</th>\n",
       "      <td>16</td>\n",
       "      <td>0.671398</td>\n",
       "      <td>0.290940</td>\n",
       "      <td>0.135801</td>\n",
       "      <td>0.525133</td>\n",
       "      <td>0.173372</td>\n",
       "      <td>-1.249524</td>\n",
       "      <td>-0.653951</td>\n",
       "      <td>0.081693</td>\n",
       "      <td>-0.501356</td>\n",
       "      <td>...</td>\n",
       "      <td>0</td>\n",
       "      <td>0</td>\n",
       "      <td>0</td>\n",
       "      <td>0</td>\n",
       "      <td>0</td>\n",
       "      <td>0</td>\n",
       "      <td>0</td>\n",
       "      <td>1</td>\n",
       "      <td>0</td>\n",
       "      <td>0</td>\n",
       "    </tr>\n",
       "    <tr>\n",
       "      <th>4</th>\n",
       "      <td>9</td>\n",
       "      <td>-0.656139</td>\n",
       "      <td>-0.899524</td>\n",
       "      <td>-0.391795</td>\n",
       "      <td>-0.409276</td>\n",
       "      <td>1.862123</td>\n",
       "      <td>-1.149948</td>\n",
       "      <td>-0.681779</td>\n",
       "      <td>-0.529226</td>\n",
       "      <td>-0.919529</td>\n",
       "      <td>...</td>\n",
       "      <td>0</td>\n",
       "      <td>0</td>\n",
       "      <td>0</td>\n",
       "      <td>0</td>\n",
       "      <td>0</td>\n",
       "      <td>1</td>\n",
       "      <td>0</td>\n",
       "      <td>0</td>\n",
       "      <td>0</td>\n",
       "      <td>0</td>\n",
       "    </tr>\n",
       "    <tr>\n",
       "      <th>...</th>\n",
       "      <td>...</td>\n",
       "      <td>...</td>\n",
       "      <td>...</td>\n",
       "      <td>...</td>\n",
       "      <td>...</td>\n",
       "      <td>...</td>\n",
       "      <td>...</td>\n",
       "      <td>...</td>\n",
       "      <td>...</td>\n",
       "      <td>...</td>\n",
       "      <td>...</td>\n",
       "      <td>...</td>\n",
       "      <td>...</td>\n",
       "      <td>...</td>\n",
       "      <td>...</td>\n",
       "      <td>...</td>\n",
       "      <td>...</td>\n",
       "      <td>...</td>\n",
       "      <td>...</td>\n",
       "      <td>...</td>\n",
       "      <td>...</td>\n",
       "    </tr>\n",
       "    <tr>\n",
       "      <th>94</th>\n",
       "      <td>11</td>\n",
       "      <td>-0.450142</td>\n",
       "      <td>0.040316</td>\n",
       "      <td>-0.492289</td>\n",
       "      <td>-0.409276</td>\n",
       "      <td>-1.378914</td>\n",
       "      <td>1.936978</td>\n",
       "      <td>0.038964</td>\n",
       "      <td>-0.529226</td>\n",
       "      <td>0.805435</td>\n",
       "      <td>...</td>\n",
       "      <td>0</td>\n",
       "      <td>0</td>\n",
       "      <td>0</td>\n",
       "      <td>0</td>\n",
       "      <td>0</td>\n",
       "      <td>0</td>\n",
       "      <td>0</td>\n",
       "      <td>0</td>\n",
       "      <td>0</td>\n",
       "      <td>1</td>\n",
       "    </tr>\n",
       "    <tr>\n",
       "      <th>95</th>\n",
       "      <td>0</td>\n",
       "      <td>-2.418559</td>\n",
       "      <td>-2.152643</td>\n",
       "      <td>0.952319</td>\n",
       "      <td>-1.237902</td>\n",
       "      <td>-1.694489</td>\n",
       "      <td>0.642463</td>\n",
       "      <td>4.224283</td>\n",
       "      <td>-1.140144</td>\n",
       "      <td>-1.808146</td>\n",
       "      <td>...</td>\n",
       "      <td>0</td>\n",
       "      <td>0</td>\n",
       "      <td>0</td>\n",
       "      <td>0</td>\n",
       "      <td>0</td>\n",
       "      <td>0</td>\n",
       "      <td>0</td>\n",
       "      <td>1</td>\n",
       "      <td>0</td>\n",
       "      <td>0</td>\n",
       "    </tr>\n",
       "    <tr>\n",
       "      <th>96</th>\n",
       "      <td>0</td>\n",
       "      <td>-1.182576</td>\n",
       "      <td>-0.836868</td>\n",
       "      <td>-0.693278</td>\n",
       "      <td>-0.462168</td>\n",
       "      <td>-0.671003</td>\n",
       "      <td>1.239930</td>\n",
       "      <td>0.495342</td>\n",
       "      <td>-1.140144</td>\n",
       "      <td>-0.710443</td>\n",
       "      <td>...</td>\n",
       "      <td>0</td>\n",
       "      <td>0</td>\n",
       "      <td>0</td>\n",
       "      <td>0</td>\n",
       "      <td>0</td>\n",
       "      <td>0</td>\n",
       "      <td>0</td>\n",
       "      <td>0</td>\n",
       "      <td>0</td>\n",
       "      <td>0</td>\n",
       "    </tr>\n",
       "    <tr>\n",
       "      <th>97</th>\n",
       "      <td>12</td>\n",
       "      <td>1.152058</td>\n",
       "      <td>0.604220</td>\n",
       "      <td>-0.529975</td>\n",
       "      <td>0.930631</td>\n",
       "      <td>-0.679533</td>\n",
       "      <td>-1.647838</td>\n",
       "      <td>-0.662300</td>\n",
       "      <td>0.081693</td>\n",
       "      <td>-0.658171</td>\n",
       "      <td>...</td>\n",
       "      <td>0</td>\n",
       "      <td>0</td>\n",
       "      <td>0</td>\n",
       "      <td>0</td>\n",
       "      <td>0</td>\n",
       "      <td>0</td>\n",
       "      <td>0</td>\n",
       "      <td>0</td>\n",
       "      <td>0</td>\n",
       "      <td>1</td>\n",
       "    </tr>\n",
       "    <tr>\n",
       "      <th>98</th>\n",
       "      <td>14</td>\n",
       "      <td>1.106281</td>\n",
       "      <td>1.042812</td>\n",
       "      <td>-0.253615</td>\n",
       "      <td>0.930631</td>\n",
       "      <td>-0.483364</td>\n",
       "      <td>0.044991</td>\n",
       "      <td>0.155841</td>\n",
       "      <td>-0.529226</td>\n",
       "      <td>0.073631</td>\n",
       "      <td>...</td>\n",
       "      <td>0</td>\n",
       "      <td>0</td>\n",
       "      <td>0</td>\n",
       "      <td>0</td>\n",
       "      <td>0</td>\n",
       "      <td>0</td>\n",
       "      <td>0</td>\n",
       "      <td>0</td>\n",
       "      <td>0</td>\n",
       "      <td>1</td>\n",
       "    </tr>\n",
       "  </tbody>\n",
       "</table>\n",
       "<p>99 rows × 34 columns</p>\n",
       "</div>"
      ],
      "text/plain": [
       "    Patient age quantile  Hematocrit  Hemoglobin  Platelets  Red blood Cells  \\\n",
       "0                     17    0.236515   -0.022340  -0.517413         0.102004   \n",
       "1                      9   -0.747693   -0.586244  -0.429480        -1.361315   \n",
       "2                      9   -0.679027   -0.711556   0.952319        -0.321124   \n",
       "3                     16    0.671398    0.290940   0.135801         0.525133   \n",
       "4                      9   -0.656139   -0.899524  -0.391795        -0.409276   \n",
       "..                   ...         ...         ...        ...              ...   \n",
       "94                    11   -0.450142    0.040316  -0.492289        -0.409276   \n",
       "95                     0   -2.418559   -2.152643   0.952319        -1.237902   \n",
       "96                     0   -1.182576   -0.836868  -0.693278        -0.462168   \n",
       "97                    12    1.152058    0.604220  -0.529975         0.930631   \n",
       "98                    14    1.106281    1.042812  -0.253615         0.930631   \n",
       "\n",
       "    Lymphocytes  Mean corpuscular hemoglobin concentration (MCHC)  Leukocytes  \\\n",
       "0      0.318366                                         -0.950790   -0.094610   \n",
       "1     -1.114514                                          0.542882   -0.884923   \n",
       "2     -0.875701                                         -0.253742   -0.286623   \n",
       "3      0.173372                                         -1.249524   -0.653951   \n",
       "4      1.862123                                         -1.149948   -0.681779   \n",
       "..          ...                                               ...         ...   \n",
       "94    -1.378914                                          1.936978    0.038964   \n",
       "95    -1.694489                                          0.642463    4.224283   \n",
       "96    -0.671003                                          1.239930    0.495342   \n",
       "97    -0.679533                                         -1.647838   -0.662300   \n",
       "98    -0.483364                                          0.044991    0.155841   \n",
       "\n",
       "    Basophils  Mean corpuscular hemoglobin (MCH)  ...  Parainfluenza 4  \\\n",
       "0   -0.223767                          -0.292269  ...                0   \n",
       "1    0.081693                           1.746323  ...                0   \n",
       "2   -0.223767                          -0.710443  ...                0   \n",
       "3    0.081693                          -0.501356  ...                0   \n",
       "4   -0.529226                          -0.919529  ...                0   \n",
       "..        ...                                ...  ...              ...   \n",
       "94  -0.529226                           0.805435  ...                0   \n",
       "95  -1.140144                          -1.808146  ...                0   \n",
       "96  -1.140144                          -0.710443  ...                0   \n",
       "97   0.081693                          -0.658171  ...                0   \n",
       "98  -0.529226                           0.073631  ...                0   \n",
       "\n",
       "    Coronavirus229E  CoronavirusOC43  Inf A H1N1 2009  Bordetella pertussis  \\\n",
       "0                 0                0                0                     0   \n",
       "1                 0                0                1                     0   \n",
       "2                 0                0                0                     0   \n",
       "3                 0                0                0                     0   \n",
       "4                 0                0                0                     0   \n",
       "..              ...              ...              ...                   ...   \n",
       "94                0                0                0                     0   \n",
       "95                0                0                0                     0   \n",
       "96                0                0                0                     0   \n",
       "97                0                0                0                     0   \n",
       "98                0                0                0                     0   \n",
       "\n",
       "    Metapneumovirus  Parainfluenza 2  Influenza B, rapid test  \\\n",
       "0                 0                0                        0   \n",
       "1                 0                0                        0   \n",
       "2                 0                0                        0   \n",
       "3                 0                0                        1   \n",
       "4                 1                0                        0   \n",
       "..              ...              ...                      ...   \n",
       "94                0                0                        0   \n",
       "95                0                0                        1   \n",
       "96                0                0                        0   \n",
       "97                0                0                        0   \n",
       "98                0                0                        0   \n",
       "\n",
       "    Influenza A, rapid test  Result Test COVID  \n",
       "0                         0                  0  \n",
       "1                         1                  0  \n",
       "2                         0                  0  \n",
       "3                         0                  0  \n",
       "4                         0                  0  \n",
       "..                      ...                ...  \n",
       "94                        0                  1  \n",
       "95                        0                  0  \n",
       "96                        0                  0  \n",
       "97                        0                  1  \n",
       "98                        0                  1  \n",
       "\n",
       "[99 rows x 34 columns]"
      ]
     },
     "execution_count": 4,
     "metadata": {},
     "output_type": "execute_result"
    }
   ],
   "source": [
    "Data_NumandCat"
   ]
  },
  {
   "cell_type": "code",
   "execution_count": 5,
   "metadata": {},
   "outputs": [
    {
     "data": {
      "text/plain": [
       "13"
      ]
     },
     "execution_count": 5,
     "metadata": {},
     "output_type": "execute_result"
    }
   ],
   "source": [
    "Data_NumandCat['Result Test COVID'].sum()"
   ]
  },
  {
   "cell_type": "code",
   "execution_count": 6,
   "metadata": {},
   "outputs": [],
   "source": [
    "#Dividindo meu Dataset em Treinamento e Teste"
   ]
  },
  {
   "cell_type": "code",
   "execution_count": 7,
   "metadata": {},
   "outputs": [],
   "source": [
    "from sklearn.model_selection import train_test_split"
   ]
  },
  {
   "cell_type": "code",
   "execution_count": 8,
   "metadata": {},
   "outputs": [],
   "source": [
    "X_train, X_test, y_train, y_test = train_test_split(Data_NumandCat.drop('Result Test COVID',axis=1), \n",
    "                                                    Data_NumandCat['Result Test COVID'], test_size=0.30, \n",
    "                                                    random_state=101)"
   ]
  },
  {
   "cell_type": "code",
   "execution_count": 9,
   "metadata": {},
   "outputs": [],
   "source": [
    "#Treinamento e Predição"
   ]
  },
  {
   "cell_type": "code",
   "execution_count": 10,
   "metadata": {},
   "outputs": [
    {
     "data": {
      "text/plain": [
       "LogisticRegression()"
      ]
     },
     "execution_count": 10,
     "metadata": {},
     "output_type": "execute_result"
    }
   ],
   "source": [
    "from sklearn.linear_model import LogisticRegression\n",
    "\n",
    "logmodel = LogisticRegression()\n",
    "logmodel.fit(X_train,y_train)"
   ]
  },
  {
   "cell_type": "code",
   "execution_count": 11,
   "metadata": {},
   "outputs": [],
   "source": [
    "predictions = logmodel.predict(X_test)"
   ]
  },
  {
   "cell_type": "code",
   "execution_count": 12,
   "metadata": {},
   "outputs": [],
   "source": [
    "#Resultado"
   ]
  },
  {
   "cell_type": "code",
   "execution_count": 13,
   "metadata": {},
   "outputs": [],
   "source": [
    "from sklearn.metrics import classification_report,confusion_matrix"
   ]
  },
  {
   "cell_type": "code",
   "execution_count": 14,
   "metadata": {},
   "outputs": [
    {
     "name": "stdout",
     "output_type": "stream",
     "text": [
      "              precision    recall  f1-score   support\n",
      "\n",
      "           0       0.88      0.88      0.88        25\n",
      "           1       0.40      0.40      0.40         5\n",
      "\n",
      "    accuracy                           0.80        30\n",
      "   macro avg       0.64      0.64      0.64        30\n",
      "weighted avg       0.80      0.80      0.80        30\n",
      "\n"
     ]
    }
   ],
   "source": [
    "print(classification_report(y_test,predictions))"
   ]
  },
  {
   "cell_type": "code",
   "execution_count": 15,
   "metadata": {},
   "outputs": [
    {
     "name": "stdout",
     "output_type": "stream",
     "text": [
      "[[22  3]\n",
      " [ 3  2]]\n"
     ]
    }
   ],
   "source": [
    "print(confusion_matrix(y_test,predictions))"
   ]
  },
  {
   "cell_type": "code",
   "execution_count": 16,
   "metadata": {},
   "outputs": [
    {
     "name": "stdout",
     "output_type": "stream",
     "text": [
      "Patient age quantile Score: 0.12337\n",
      "Hematocrit Score: 0.07098\n",
      "Hemoglobin Score: 0.07982\n",
      "Platelets Score: -0.17702\n",
      "Red blood Cells Score: -0.02327\n",
      "Lymphocytes Score: -0.39796\n",
      "Mean corpuscular hemoglobin concentration (MCHC) Score: 0.14289\n",
      "Leukocytes Score: -1.22951\n",
      "Basophils Score: 0.24559\n",
      "Mean corpuscular hemoglobin (MCH) Score: 0.18691\n",
      "Eosinophils Score: -0.55137\n",
      "Mean corpuscular volume (MCV) Score: 0.21223\n",
      "Monocytes Score: 0.35273\n",
      "Red blood cell distribution width (RDW) Score: -0.18024\n",
      "Respiratory Syncytial Virus Score: -0.01868\n",
      "Influenza A Score: 0.00000\n",
      "Influenza B Score: -0.30123\n",
      "Parainfluenza 1 Score: 0.00000\n",
      "CoronavirusNL63 Score: -0.18708\n",
      "Rhinovirus/Enterovirus Score: -0.86277\n",
      "Coronavirus HKU1 Score: 0.00000\n",
      "Parainfluenza 3 Score: 0.00000\n",
      "Chlamydophila pneumoniae Score: 0.00000\n",
      "Adenovirus Score: 0.00000\n",
      "Parainfluenza 4 Score: 0.00000\n",
      "Coronavirus229E Score: 0.00000\n",
      "CoronavirusOC43 Score: -0.58288\n",
      "Inf A H1N1 2009 Score: -0.80941\n",
      "Bordetella pertussis Score: 0.00000\n",
      "Metapneumovirus Score: -0.03437\n",
      "Parainfluenza 2 Score: 0.00000\n",
      "Influenza B, rapid test Score: -0.22301\n",
      "Influenza A, rapid test Score: -0.09826\n"
     ]
    }
   ],
   "source": [
    "# get importance\n",
    "\n",
    "importance = logmodel.coef_[0]\n",
    "\n",
    "# summarize feature importance\n",
    "for i,v in enumerate(importance):\n",
    "    print(str(list(Data_NumandCat.columns.values)[i]) + ' Score: %.5f' % (v))\n"
   ]
  },
  {
   "cell_type": "code",
   "execution_count": 17,
   "metadata": {
    "scrolled": false
   },
   "outputs": [
    {
     "data": {
      "text/plain": [
       "<matplotlib.axes._subplots.AxesSubplot at 0x1717ebce100>"
      ]
     },
     "execution_count": 17,
     "metadata": {},
     "output_type": "execute_result"
    },
    {
     "data": {
      "image/png": "[encoded data removed]",
      "text/plain": [
       "<Figure size 1800x1440 with 1 Axes>"
      ]
     },
     "metadata": {
      "needs_background": "light"
     },
     "output_type": "display_data"
    }
   ],
   "source": [
    "plt.figure(figsize=(25,20))\n",
    "sns.barplot(y=[str(list(Data_NumandCat.columns.values)[y]) for y in range(len(importance))], x=importance, palette=\"rocket\",orient=\"h\")"
   ]
  }
 ],
 "metadata": {
  "kernelspec": {
   "display_name": "Python 3",
   "language": "python",
   "name": "python3"
  },
  "language_info": {
   "codemirror_mode": {
    "name": "ipython",
    "version": 3
   },
   "file_extension": ".py",
   "mimetype": "text/x-python",
   "name": "python",
   "nbconvert_exporter": "python",
   "pygments_lexer": "ipython3",
   "version": "3.8.3"
  }
 },
 "nbformat": 4,
 "nbformat_minor": 4
}
