{
 "cells": [
  {
   "cell_type": "code",
   "execution_count": 1,
   "metadata": {},
   "outputs": [],
   "source": [
    "#Aplicando o modelo de Regressão Logística no Dataset de Variáveis Numéricas"
   ]
  },
  {
   "cell_type": "code",
   "execution_count": 1,
   "metadata": {},
   "outputs": [],
   "source": [
    "import pandas as pd\n",
    "import numpy as np\n",
    "import matplotlib.pyplot as plt\n",
    "import seaborn as sns\n",
    "import sklearn\n",
    "%matplotlib inline"
   ]
  },
  {
   "cell_type": "code",
   "execution_count": 20,
   "metadata": {},
   "outputs": [],
   "source": [
    "Data_Numerical = pd.read_csv('Dataset_Numerical.csv')"
   ]
  },
  {
   "cell_type": "code",
   "execution_count": 21,
   "metadata": {},
   "outputs": [
    {
     "data": {
      "text/html": [
       "<div>\n",
       "<style scoped>\n",
       "    .dataframe tbody tr th:only-of-type {\n",
       "        vertical-align: middle;\n",
       "    }\n",
       "\n",
       "    .dataframe tbody tr th {\n",
       "        vertical-align: top;\n",
       "    }\n",
       "\n",
       "    .dataframe thead th {\n",
       "        text-align: right;\n",
       "    }\n",
       "</style>\n",
       "<table border=\"1\" class=\"dataframe\">\n",
       "  <thead>\n",
       "    <tr style=\"text-align: right;\">\n",
       "      <th></th>\n",
       "      <th>Patient age quantile</th>\n",
       "      <th>Hematocrit</th>\n",
       "      <th>Hemoglobin</th>\n",
       "      <th>Platelets</th>\n",
       "      <th>Red blood Cells</th>\n",
       "      <th>Lymphocytes</th>\n",
       "      <th>Mean corpuscular hemoglobin concentration (MCHC)</th>\n",
       "      <th>Leukocytes</th>\n",
       "      <th>Basophils</th>\n",
       "      <th>Mean corpuscular hemoglobin (MCH)</th>\n",
       "      <th>Eosinophils</th>\n",
       "      <th>Mean corpuscular volume (MCV)</th>\n",
       "      <th>Monocytes</th>\n",
       "      <th>Red blood cell distribution width (RDW)</th>\n",
       "      <th>Result Test COVID</th>\n",
       "    </tr>\n",
       "  </thead>\n",
       "  <tbody>\n",
       "    <tr>\n",
       "      <th>0</th>\n",
       "      <td>17</td>\n",
       "      <td>0.236515</td>\n",
       "      <td>-0.022340</td>\n",
       "      <td>-0.517413</td>\n",
       "      <td>0.102004</td>\n",
       "      <td>0.318366</td>\n",
       "      <td>-0.950790</td>\n",
       "      <td>-0.094610</td>\n",
       "      <td>-0.223767</td>\n",
       "      <td>-0.292269</td>\n",
       "      <td>1.482158</td>\n",
       "      <td>0.166192</td>\n",
       "      <td>0.357547</td>\n",
       "      <td>-0.625073</td>\n",
       "      <td>0</td>\n",
       "    </tr>\n",
       "    <tr>\n",
       "      <th>1</th>\n",
       "      <td>1</td>\n",
       "      <td>-1.571682</td>\n",
       "      <td>-0.774212</td>\n",
       "      <td>1.429667</td>\n",
       "      <td>-0.850035</td>\n",
       "      <td>-0.005738</td>\n",
       "      <td>3.331071</td>\n",
       "      <td>0.364550</td>\n",
       "      <td>-0.223767</td>\n",
       "      <td>0.178175</td>\n",
       "      <td>1.018625</td>\n",
       "      <td>-1.336024</td>\n",
       "      <td>0.068652</td>\n",
       "      <td>-0.978899</td>\n",
       "      <td>0</td>\n",
       "    </tr>\n",
       "    <tr>\n",
       "      <th>2</th>\n",
       "      <td>9</td>\n",
       "      <td>-0.747693</td>\n",
       "      <td>-0.586244</td>\n",
       "      <td>-0.429480</td>\n",
       "      <td>-1.361315</td>\n",
       "      <td>-1.114514</td>\n",
       "      <td>0.542882</td>\n",
       "      <td>-0.884923</td>\n",
       "      <td>0.081693</td>\n",
       "      <td>1.746323</td>\n",
       "      <td>-0.666950</td>\n",
       "      <td>1.668409</td>\n",
       "      <td>1.276759</td>\n",
       "      <td>-1.067355</td>\n",
       "      <td>0</td>\n",
       "    </tr>\n",
       "    <tr>\n",
       "      <th>3</th>\n",
       "      <td>11</td>\n",
       "      <td>0.991838</td>\n",
       "      <td>0.792188</td>\n",
       "      <td>0.072992</td>\n",
       "      <td>0.542763</td>\n",
       "      <td>0.045436</td>\n",
       "      <td>-0.452899</td>\n",
       "      <td>-0.211488</td>\n",
       "      <td>-0.834685</td>\n",
       "      <td>0.334989</td>\n",
       "      <td>-0.709090</td>\n",
       "      <td>0.606842</td>\n",
       "      <td>-0.220244</td>\n",
       "      <td>0.171035</td>\n",
       "      <td>0</td>\n",
       "    </tr>\n",
       "    <tr>\n",
       "      <th>4</th>\n",
       "      <td>9</td>\n",
       "      <td>0.190738</td>\n",
       "      <td>-0.147652</td>\n",
       "      <td>-0.668155</td>\n",
       "      <td>-0.127191</td>\n",
       "      <td>0.002791</td>\n",
       "      <td>-1.249524</td>\n",
       "      <td>-1.132592</td>\n",
       "      <td>0.387152</td>\n",
       "      <td>-0.083183</td>\n",
       "      <td>-0.709090</td>\n",
       "      <td>0.566783</td>\n",
       "      <td>2.012129</td>\n",
       "      <td>0.613318</td>\n",
       "      <td>0</td>\n",
       "    </tr>\n",
       "    <tr>\n",
       "      <th>...</th>\n",
       "      <td>...</td>\n",
       "      <td>...</td>\n",
       "      <td>...</td>\n",
       "      <td>...</td>\n",
       "      <td>...</td>\n",
       "      <td>...</td>\n",
       "      <td>...</td>\n",
       "      <td>...</td>\n",
       "      <td>...</td>\n",
       "      <td>...</td>\n",
       "      <td>...</td>\n",
       "      <td>...</td>\n",
       "      <td>...</td>\n",
       "      <td>...</td>\n",
       "      <td>...</td>\n",
       "    </tr>\n",
       "    <tr>\n",
       "      <th>596</th>\n",
       "      <td>19</td>\n",
       "      <td>0.190738</td>\n",
       "      <td>0.165628</td>\n",
       "      <td>-0.102873</td>\n",
       "      <td>0.384090</td>\n",
       "      <td>-1.583611</td>\n",
       "      <td>-0.054585</td>\n",
       "      <td>-0.328365</td>\n",
       "      <td>-0.834685</td>\n",
       "      <td>-0.449085</td>\n",
       "      <td>0.892207</td>\n",
       "      <td>-0.474754</td>\n",
       "      <td>1.066653</td>\n",
       "      <td>0.347948</td>\n",
       "      <td>0</td>\n",
       "    </tr>\n",
       "    <tr>\n",
       "      <th>597</th>\n",
       "      <td>19</td>\n",
       "      <td>-0.289922</td>\n",
       "      <td>-0.523588</td>\n",
       "      <td>0.663397</td>\n",
       "      <td>0.754327</td>\n",
       "      <td>-1.532437</td>\n",
       "      <td>-1.050367</td>\n",
       "      <td>1.569499</td>\n",
       "      <td>0.081693</td>\n",
       "      <td>-2.174047</td>\n",
       "      <td>-0.540532</td>\n",
       "      <td>-1.976971</td>\n",
       "      <td>1.670707</td>\n",
       "      <td>0.967144</td>\n",
       "      <td>0</td>\n",
       "    </tr>\n",
       "    <tr>\n",
       "      <th>598</th>\n",
       "      <td>15</td>\n",
       "      <td>0.717175</td>\n",
       "      <td>1.105468</td>\n",
       "      <td>-0.492289</td>\n",
       "      <td>0.613284</td>\n",
       "      <td>0.002791</td>\n",
       "      <td>1.538664</td>\n",
       "      <td>-0.550988</td>\n",
       "      <td>-0.223767</td>\n",
       "      <td>0.700891</td>\n",
       "      <td>-0.709090</td>\n",
       "      <td>0.005955</td>\n",
       "      <td>0.909074</td>\n",
       "      <td>-1.155812</td>\n",
       "      <td>0</td>\n",
       "    </tr>\n",
       "    <tr>\n",
       "      <th>599</th>\n",
       "      <td>17</td>\n",
       "      <td>-3.242548</td>\n",
       "      <td>-2.779203</td>\n",
       "      <td>-1.773594</td>\n",
       "      <td>-3.318285</td>\n",
       "      <td>-1.830953</td>\n",
       "      <td>1.538664</td>\n",
       "      <td>-1.733675</td>\n",
       "      <td>-1.140144</td>\n",
       "      <td>2.059952</td>\n",
       "      <td>-0.582671</td>\n",
       "      <td>1.408024</td>\n",
       "      <td>1.381812</td>\n",
       "      <td>-0.448160</td>\n",
       "      <td>0</td>\n",
       "    </tr>\n",
       "    <tr>\n",
       "      <th>600</th>\n",
       "      <td>19</td>\n",
       "      <td>0.694287</td>\n",
       "      <td>0.541564</td>\n",
       "      <td>-0.906829</td>\n",
       "      <td>0.578024</td>\n",
       "      <td>-0.295726</td>\n",
       "      <td>-0.353319</td>\n",
       "      <td>-1.288428</td>\n",
       "      <td>-1.140144</td>\n",
       "      <td>-0.135455</td>\n",
       "      <td>-0.835508</td>\n",
       "      <td>0.025985</td>\n",
       "      <td>0.567652</td>\n",
       "      <td>-0.182790</td>\n",
       "      <td>1</td>\n",
       "    </tr>\n",
       "  </tbody>\n",
       "</table>\n",
       "<p>601 rows × 15 columns</p>\n",
       "</div>"
      ],
      "text/plain": [
       "     Patient age quantile  Hematocrit  Hemoglobin  Platelets  Red blood Cells  \\\n",
       "0                      17    0.236515   -0.022340  -0.517413         0.102004   \n",
       "1                       1   -1.571682   -0.774212   1.429667        -0.850035   \n",
       "2                       9   -0.747693   -0.586244  -0.429480        -1.361315   \n",
       "3                      11    0.991838    0.792188   0.072992         0.542763   \n",
       "4                       9    0.190738   -0.147652  -0.668155        -0.127191   \n",
       "..                    ...         ...         ...        ...              ...   \n",
       "596                    19    0.190738    0.165628  -0.102873         0.384090   \n",
       "597                    19   -0.289922   -0.523588   0.663397         0.754327   \n",
       "598                    15    0.717175    1.105468  -0.492289         0.613284   \n",
       "599                    17   -3.242548   -2.779203  -1.773594        -3.318285   \n",
       "600                    19    0.694287    0.541564  -0.906829         0.578024   \n",
       "\n",
       "     Lymphocytes  Mean corpuscular hemoglobin concentration (MCHC)  \\\n",
       "0       0.318366                                         -0.950790   \n",
       "1      -0.005738                                          3.331071   \n",
       "2      -1.114514                                          0.542882   \n",
       "3       0.045436                                         -0.452899   \n",
       "4       0.002791                                         -1.249524   \n",
       "..           ...                                               ...   \n",
       "596    -1.583611                                         -0.054585   \n",
       "597    -1.532437                                         -1.050367   \n",
       "598     0.002791                                          1.538664   \n",
       "599    -1.830953                                          1.538664   \n",
       "600    -0.295726                                         -0.353319   \n",
       "\n",
       "     Leukocytes  Basophils  Mean corpuscular hemoglobin (MCH)  Eosinophils  \\\n",
       "0     -0.094610  -0.223767                          -0.292269     1.482158   \n",
       "1      0.364550  -0.223767                           0.178175     1.018625   \n",
       "2     -0.884923   0.081693                           1.746323    -0.666950   \n",
       "3     -0.211488  -0.834685                           0.334989    -0.709090   \n",
       "4     -1.132592   0.387152                          -0.083183    -0.709090   \n",
       "..          ...        ...                                ...          ...   \n",
       "596   -0.328365  -0.834685                          -0.449085     0.892207   \n",
       "597    1.569499   0.081693                          -2.174047    -0.540532   \n",
       "598   -0.550988  -0.223767                           0.700891    -0.709090   \n",
       "599   -1.733675  -1.140144                           2.059952    -0.582671   \n",
       "600   -1.288428  -1.140144                          -0.135455    -0.835508   \n",
       "\n",
       "     Mean corpuscular volume (MCV)  Monocytes  \\\n",
       "0                         0.166192   0.357547   \n",
       "1                        -1.336024   0.068652   \n",
       "2                         1.668409   1.276759   \n",
       "3                         0.606842  -0.220244   \n",
       "4                         0.566783   2.012129   \n",
       "..                             ...        ...   \n",
       "596                      -0.474754   1.066653   \n",
       "597                      -1.976971   1.670707   \n",
       "598                       0.005955   0.909074   \n",
       "599                       1.408024   1.381812   \n",
       "600                       0.025985   0.567652   \n",
       "\n",
       "     Red blood cell distribution width (RDW)  Result Test COVID  \n",
       "0                                  -0.625073                  0  \n",
       "1                                  -0.978899                  0  \n",
       "2                                  -1.067355                  0  \n",
       "3                                   0.171035                  0  \n",
       "4                                   0.613318                  0  \n",
       "..                                       ...                ...  \n",
       "596                                 0.347948                  0  \n",
       "597                                 0.967144                  0  \n",
       "598                                -1.155812                  0  \n",
       "599                                -0.448160                  0  \n",
       "600                                -0.182790                  1  \n",
       "\n",
       "[601 rows x 15 columns]"
      ]
     },
     "execution_count": 21,
     "metadata": {},
     "output_type": "execute_result"
    }
   ],
   "source": [
    "Data_Numerical"
   ]
  },
  {
   "cell_type": "code",
   "execution_count": null,
   "metadata": {},
   "outputs": [],
   "source": [
    "#Dividindo meu Dataset em Treinamento e Teste"
   ]
  },
  {
   "cell_type": "code",
   "execution_count": 5,
   "metadata": {},
   "outputs": [],
   "source": [
    "from sklearn.model_selection import train_test_split"
   ]
  },
  {
   "cell_type": "code",
   "execution_count": 22,
   "metadata": {},
   "outputs": [],
   "source": [
    "X_train, X_test, y_train, y_test = train_test_split(Data_Numerical.drop('Result Test COVID',axis=1), \n",
    "                                                    Data_Numerical['Result Test COVID'], test_size=0.30, \n",
    "                                                    random_state=101)"
   ]
  },
  {
   "cell_type": "code",
   "execution_count": 9,
   "metadata": {},
   "outputs": [],
   "source": [
    "#Treinamento e Predição"
   ]
  },
  {
   "cell_type": "code",
   "execution_count": 7,
   "metadata": {},
   "outputs": [
    {
     "data": {
      "text/plain": [
       "LogisticRegression()"
      ]
     },
     "execution_count": 7,
     "metadata": {},
     "output_type": "execute_result"
    }
   ],
   "source": [
    "from sklearn.linear_model import LogisticRegression\n",
    "\n",
    "logmodel = LogisticRegression()\n",
    "logmodel.fit(X_train,y_train)"
   ]
  },
  {
   "cell_type": "code",
   "execution_count": 23,
   "metadata": {},
   "outputs": [],
   "source": [
    "predictions = logmodel.predict(X_test)"
   ]
  },
  {
   "cell_type": "code",
   "execution_count": 23,
   "metadata": {},
   "outputs": [],
   "source": [
    "#Resultado"
   ]
  },
  {
   "cell_type": "code",
   "execution_count": 24,
   "metadata": {},
   "outputs": [],
   "source": [
    "from sklearn.metrics import classification_report,confusion_matrix"
   ]
  },
  {
   "cell_type": "code",
   "execution_count": 25,
   "metadata": {},
   "outputs": [
    {
     "name": "stdout",
     "output_type": "stream",
     "text": [
      "              precision    recall  f1-score   support\n",
      "\n",
      "           0       0.96      0.93      0.94       162\n",
      "           1       0.50      0.63      0.56        19\n",
      "\n",
      "    accuracy                           0.90       181\n",
      "   macro avg       0.73      0.78      0.75       181\n",
      "weighted avg       0.91      0.90      0.90       181\n",
      "\n"
     ]
    }
   ],
   "source": [
    "print(classification_report(y_test,predictions))"
   ]
  },
  {
   "cell_type": "code",
   "execution_count": 26,
   "metadata": {},
   "outputs": [
    {
     "name": "stdout",
     "output_type": "stream",
     "text": [
      "[[150  12]\n",
      " [  7  12]]\n"
     ]
    }
   ],
   "source": [
    "print(confusion_matrix(y_test,predictions))"
   ]
  },
  {
   "cell_type": "code",
   "execution_count": 28,
   "metadata": {},
   "outputs": [],
   "source": [
    "#Tentando melhorar o modelo, considerando que está desbalanceado"
   ]
  },
  {
   "cell_type": "code",
   "execution_count": 27,
   "metadata": {},
   "outputs": [
    {
     "data": {
      "text/plain": [
       "0    0.861897\n",
       "1    0.138103\n",
       "Name: Result Test COVID, dtype: float64"
      ]
     },
     "execution_count": 27,
     "metadata": {},
     "output_type": "execute_result"
    }
   ],
   "source": [
    "# check the distribution\n",
    "\n",
    "Data_Numerical['Result Test COVID'].value_counts()/Data_Numerical.shape[0]"
   ]
  },
  {
   "cell_type": "code",
   "execution_count": 28,
   "metadata": {},
   "outputs": [],
   "source": [
    "# define class weights\n",
    "\n",
    "w = {0:13.8103, 1:86.1897}\n",
    "\n",
    "logmodel2 = LogisticRegression(class_weight=w)\n",
    "logmodel2.fit(X_train,y_train)\n",
    "\n",
    "predictions2 = logmodel.predict(X_test)"
   ]
  },
  {
   "cell_type": "code",
   "execution_count": 30,
   "metadata": {
    "scrolled": true
   },
   "outputs": [
    {
     "name": "stdout",
     "output_type": "stream",
     "text": [
      "[[150  12]\n",
      " [  7  12]]\n"
     ]
    }
   ],
   "source": [
    "print(confusion_matrix(y_test,predictions2))"
   ]
  },
  {
   "cell_type": "code",
   "execution_count": 31,
   "metadata": {},
   "outputs": [
    {
     "name": "stdout",
     "output_type": "stream",
     "text": [
      "              precision    recall  f1-score   support\n",
      "\n",
      "           0       0.96      0.93      0.94       162\n",
      "           1       0.50      0.63      0.56        19\n",
      "\n",
      "    accuracy                           0.90       181\n",
      "   macro avg       0.73      0.78      0.75       181\n",
      "weighted avg       0.91      0.90      0.90       181\n",
      "\n"
     ]
    }
   ],
   "source": [
    "print(classification_report(y_test,predictions2))"
   ]
  },
  {
   "cell_type": "code",
   "execution_count": 54,
   "metadata": {},
   "outputs": [],
   "source": [
    "#Feature Importance"
   ]
  },
  {
   "cell_type": "code",
   "execution_count": 32,
   "metadata": {},
   "outputs": [
    {
     "name": "stdout",
     "output_type": "stream",
     "text": [
      "Patient age quantile Score: 0.10708\n",
      "Hematocrit Score: 0.12439\n",
      "Hemoglobin Score: 0.07165\n",
      "Platelets Score: -0.50992\n",
      "Red blood Cells Score: 0.11821\n",
      "Lymphocytes Score: -0.00502\n",
      "Mean corpuscular hemoglobin concentration (MCHC) Score: -0.04207\n",
      "Leukocytes Score: -1.23292\n",
      "Basophils Score: -0.09168\n",
      "Mean corpuscular hemoglobin (MCH) Score: -0.06136\n",
      "Eosinophils Score: -1.43405\n",
      "Mean corpuscular volume (MCV) Score: -0.11913\n",
      "Monocytes Score: 0.29231\n",
      "Red blood cell distribution width (RDW) Score: -0.13605\n"
     ]
    }
   ],
   "source": [
    "# get importance\n",
    "\n",
    "importance = logmodel.coef_[0]\n",
    "\n",
    "# summarize feature importance\n",
    "for i,v in enumerate(importance):\n",
    "    print(str(list(Data_Numerical.columns.values)[i]) + ' Score: %.5f' % (v))"
   ]
  },
  {
   "cell_type": "code",
   "execution_count": 33,
   "metadata": {},
   "outputs": [
    {
     "data": {
      "text/plain": [
       "<matplotlib.axes._subplots.AxesSubplot at 0x20577b5d880>"
      ]
     },
     "execution_count": 33,
     "metadata": {},
     "output_type": "execute_result"
    },
    {
     "data": {
      "image/png": "[encoded data removed]",
      "text/plain": [
       "<Figure size 1080x720 with 1 Axes>"
      ]
     },
     "metadata": {
      "needs_background": "light"
     },
     "output_type": "display_data"
    }
   ],
   "source": [
    "plt.figure(figsize=(15,10))\n",
    "sns.barplot(y=[str(list(Data_Numerical.columns.values)[y]) for y in range(len(importance))], x=importance, palette=\"rocket\",orient=\"h\")"
   ]
  },
  {
   "cell_type": "code",
   "execution_count": null,
   "metadata": {},
   "outputs": [],
   "source": []
  }
 ],
 "metadata": {
  "kernelspec": {
   "display_name": "Python 3",
   "language": "python",
   "name": "python3"
  },
  "language_info": {
   "codemirror_mode": {
    "name": "ipython",
    "version": 3
   },
   "file_extension": ".py",
   "mimetype": "text/x-python",
   "name": "python",
   "nbconvert_exporter": "python",
   "pygments_lexer": "ipython3",
   "version": "3.8.3"
  }
 },
 "nbformat": 4,
 "nbformat_minor": 4
}
